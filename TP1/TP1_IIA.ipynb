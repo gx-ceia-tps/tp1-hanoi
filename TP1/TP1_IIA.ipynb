{
 "cells": [
  {
   "cell_type": "markdown",
   "id": "36e03093-89b0-455c-8ce1-55456fa71fe1",
   "metadata": {},
   "source": [
    "# 1\n",
    "1) Agente: Asumimos robot mecánico/autómata que se encarga de mover los discos en las torres.\n",
    "2) Performance: Reducir cantidad de movimientos (en este caso mencionar también que es sinónimo de reducir el tiempo) y usar menos memoria.\n",
    "3) Environment: Las torres y los discos.\n",
    "4) Actuators: Brazo del robot (lo que permite mover las piezas).\n",
    "5) Sensors: Cámara."
   ]
  },
  {
   "cell_type": "markdown",
   "id": "427176aa-f08a-4766-80a7-31efb0a19c2b",
   "metadata": {},
   "source": [
    "# 2\n",
    "1. Totalmente observable; ya que se conocen todas las variables que afectan al funcionamiento del autómata. Ya que una vez que se realiza un movimiento, inmediatamente se pueden visualizar las siguientes posibilidades sin agentes externos desconocidos que puedan llegar a interferir. Queda el entorno perfectamente delimitado.\n",
    "2. Determinista; dada una situación determinada, se conoce con 100% de certeza las posibilidades que se desprenden.\n",
    "3. Secuencial; en entornos secuenciales el movimiento presente puede afectar movimientos futuros.\n",
    "4. Estático; el entorno no cambia, si no es por acción del agente, cuando el agente está decide, y el comportamiento del agente no cambia en el tiempo.\n",
    "5. Discreto; no hay estados intermedios entre estados sucesivos."
   ]
  },
  {
   "cell_type": "markdown",
   "id": "bdf15b5c-91c2-47bf-9678-628680f37a56",
   "metadata": {},
   "source": [
    "# 3\n",
    "Dependiendo la cantidad de discos y de varillas que se tengan, se tiene un espacio de estados distinto.\n",
    "Para 5 discos y 3 varillas, tenemos 3^5 = 243 posibles estados.\n",
    "El árbol de búsqueda queda determinado por los nodos que dictaminan los posibles movimientos. (incluir diagramita)\n",
    "Cada nodo del árbol corresponde a un estado y las aristas corresponde a una acción.\n",
    "La frontera separa dos regiones del grafo, aquella que ya \n",
    "fue explorada por el algoritmo y aquella que no En este caso, la frontera serían aquellos nodos que fueron vistos por el agente/autómata/robot pero aún no han sido visitados.\n",
    "El objetivo es encontrar el camino en el árbol de búsqueda más corto (con la mínima cantidad de acciones/pasos). \n",
    "El estado objetivo es: todos los discos en la tercer varilla.."
   ]
  },
  {
   "cell_type": "markdown",
   "id": "47f33fe2-1ff6-490d-838b-a3a47611f807",
   "metadata": {},
   "source": []
  }
 ],
 "metadata": {
  "kernelspec": {
   "display_name": "Python 3 (ipykernel)",
   "language": "python",
   "name": "python3"
  },
  "language_info": {
   "codemirror_mode": {
    "name": "ipython",
    "version": 3
   },
   "file_extension": ".py",
   "mimetype": "text/x-python",
   "name": "python",
   "nbconvert_exporter": "python",
   "pygments_lexer": "ipython3",
   "version": "3.11.7"
  }
 },
 "nbformat": 4,
 "nbformat_minor": 5
}
