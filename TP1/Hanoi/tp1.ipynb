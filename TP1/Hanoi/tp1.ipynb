{
 "cells": [
  {
   "metadata": {
    "ExecuteTime": {
     "end_time": "2024-07-03T03:38:57.881356Z",
     "start_time": "2024-07-03T03:38:57.879161Z"
    }
   },
   "cell_type": "code",
   "source": "",
   "id": "65a80b8e9abf0cf5",
   "outputs": [],
   "execution_count": 9
  },
  {
   "metadata": {},
   "cell_type": "markdown",
   "source": [
    "# TP1: Algoritmos de búsqueda en Torre de Hanoi.\n",
    "\n"
   ],
   "id": "fbd04b47fe5bc7ba"
  },
  {
   "metadata": {},
   "cell_type": "markdown",
   "source": [
    "### 1.¿Cuáles son los PEAS de este problema? (Performance, Environment, Actuators, Sensors)\n",
    "### Performance\n",
    "\n",
    "La performance esta dada por haber llegado a la solucion, es decir, colocar a todos los discos en la varilla objetivo en el menor tiempo posible. En este caso como el costo de cada nodo es el mismo (1 para cada movimiento), la solucion optima es la que menos costo tiene.\n",
    "\n",
    "### Enviroment\n",
    "El ambiente esta dado por los discos y las varillas.\n",
    "\n",
    "### Actuator\n",
    "Asumiendo que el agente es un robot el actuador puede ser una mano robotica que realiza los movimientos de los discos.\n",
    "\n",
    "### Sensor\n",
    "En la misma linea que el punto anterior, podria tratarse de una camara y sensores de posicion que posea el robot y para detectar donde estan los discos y donde colocarlos (asi como donde esta situado el brazo, segun el angulo)."
   ],
   "id": "e366b431d600206e"
  },
  {
   "metadata": {},
   "cell_type": "markdown",
   "source": [
    "### 2.¿Cuáles son las propiedades del entorno de trabajo?\n",
    "\n",
    "1. Totalmente observable: Una vez que estan seteadas las varillas y los discos, lo unico que puede cambiar es su posicion respetando las reglas del juego.\n",
    "2. Deterministico: dado un estado en el que se encuentra el agente, se sabe con certeza los siguientes estados posibles. Esto ocurre para todas las transiciones de estados.\n",
    "3. Secuencial: ya que cada decision presente puede afectar decisiones futuras.\n",
    "4. Estatico: ya que el entorno no cambia (y tampoco el rendimiento) mientras el agente decide su proxima accion.\n",
    "5. Discreto: ya que la cantidad de acciones que peude elegir es finita.\n",
    "6. Agente individual: no hay otros agentes ejecutando acciones sobre los discos o las varas.\n"
   ],
   "id": "455e3a654daaf7d"
  },
  {
   "metadata": {},
   "cell_type": "markdown",
   "source": "",
   "id": "3d0e642c5adc30e1"
  },
  {
   "metadata": {},
   "cell_type": "markdown",
   "source": [
    "### 3.¿Cuáles son las propiedades del entorno de trabajo?\n",
    "\n",
    "Estado: \n",
    "Espacio de estados: \n",
    "Arbol de busqueda: \n",
    "Nodo de busqueda:\n",
    "Objetivo: \n",
    "Accion:\n",
    "Frontera:"
   ],
   "id": "b6dae00370699e1a"
  },
  {
   "metadata": {},
   "cell_type": "markdown",
   "source": [
    "Complejidad algoritmica:\n",
    "\n",
    "Vas expandiendo nodos para encontrar la solucion: \n",
    "En el pero de los casos podes tomar 3 decisiones.\n",
    "3^(niveles hasta q encuentra)\n",
    "\n",
    "explorando todos los posibles estados. \n",
    "3^5 = 243\n",
    "\n",
    "\n",
    "Eso seria si no tuvieramos en cuenta la priority queue.\n",
    "\n",
    "agregar en pq => O(1) \n",
    "chequear el proximo min en pq => O(1)\n",
    "(la estructura de datos es eficiente)\n",
    "aparte, nos importa cuanto se tarda en calcular f => que es o(1) tambien\n",
    "\n",
    "pero lo que nos importa es que \n",
    "cuando agregamos la priority queue con heuristica, estamos\n",
    "recortando varios posibles caminos malos\n",
    "nos tendemos a extender por la solucion optima\n",
    "\n",
    "\n",
    "revisar concepto de frontera\n",
    "\n",
    "creo que no es consistente nuestra funcion heuristica (hay que chequear)"
   ],
   "id": "d5271d26b818d618"
  },
  {
   "metadata": {},
   "cell_type": "markdown",
   "source": [
    "```python  \n",
    "while len(pq) != 0:\n",
    "    node = pq.pop()\n",
    "    explored.add(node.state)\n",
    "    if problem.goal_test(node.state):\n",
    "        last_node = node\n",
    "        print(\"Encontramos la solución\")\n",
    "        break\n",
    "    for next_node in node.expand(problem):\n",
    "            if next_node.state not in explored:\n",
    "                pq.append(next_node)\n",
    "```"
   ],
   "id": "a2768e256f692aa8"
  },
  {
   "metadata": {},
   "cell_type": "markdown",
   "source": [
    "Analizando el codigo:\n",
    "Utilizamos A* con una heuristica consistente, por ende debe llegar a la solucion optima.\n",
    "Si lo que llamamos pq es una cola de prioridad:\n",
    "Calculo de f es O(1)\n",
    "pq.append tarda O(log(n)) siendo n la cantidad de nodos en la cola de prioridad.\n",
    "Sabemos que como llega a la solucion optima, la profundidad es de 2^k -1 siendo k el numero de discos.\n",
    "Si h= 2^k-1\n",
    "El tamaño del arbol completo es (b^(h+1)) - 1. siendo h la profundidad\n",
    "n = (b^(h+1)) - 1 = (b^(2^k)) -1\n",
    "log(n) =(approx) log(b^(2^k)) = 2^k\n",
    "\n",
    "O(b*(2^k)) + O(2^k) = O(b*(2^k))\n",
    "\n",
    "O(b^(d+1)) = O(b^(2^k)) = O(b^2^k) esto tarda con BFS sin priority queue\n",
    "\n",
    "Peor caso de memoria = O(b^(d+1)) = O(b^2^k)\n",
    "\n",
    "En el peor de los casos el algoritmo recorre todos los estados => \n",
    "\n"
   ],
   "id": "f8e34bbb4d612fe"
  },
  {
   "metadata": {},
   "cell_type": "markdown",
   "source": "",
   "id": "f05df17cfbf11b55"
  },
  {
   "metadata": {},
   "cell_type": "markdown",
   "source": "### 6.A nivel implementación, ¿qué tiempo y memoria ocupa el algoritmo? (Se recomienda correr 10 veces y calcular promedio y desvío estándar de las métricas).",
   "id": "f901d6e3105c5835"
  },
  {
   "metadata": {
    "ExecuteTime": {
     "end_time": "2024-07-03T03:44:11.335456Z",
     "start_time": "2024-07-03T03:44:11.332230Z"
    }
   },
   "cell_type": "code",
   "source": [
    "from aima import PriorityQueue\n",
    "from hanoi_states import StatesHanoi, ProblemHanoi\n",
    "from tree_hanoi import NodeHanoi"
   ],
   "id": "90b2bb3fc7f46370",
   "outputs": [],
   "execution_count": 6
  },
  {
   "metadata": {
    "ExecuteTime": {
     "end_time": "2024-07-03T03:45:18.923908Z",
     "start_time": "2024-07-03T03:45:04.967139Z"
    }
   },
   "cell_type": "code",
   "source": [
    "%%timeit\n",
    "initial_state = StatesHanoi([5, 4, 3, 2, 1], [], [], max_disks=5)\n",
    "goal_state = StatesHanoi([], [], [5, 4, 3, 2, 1], max_disks=5)\n",
    "\n",
    "problem = ProblemHanoi(initial=initial_state, goal=goal_state)\n",
    "\n",
    "frontier = [NodeHanoi(problem.initial)]\n",
    "explored = set()\n",
    "\n",
    "good_order = {tuple(range(5, 5 - (i + 1), -1)) for i in range(5)}\n",
    "\n",
    "def h(new_node):\n",
    "    rod_3 = new_node.state.rods[2]\n",
    "    return -len(rod_3) if tuple(rod_3) in good_order else 0\n",
    "\n",
    "\n",
    "def f(new_node):\n",
    "    return new_node.path_cost + h(new_node)\n",
    "\n",
    "\n",
    "pq = PriorityQueue(order='min', f=f)\n",
    "pq.append(NodeHanoi(problem.initial))\n",
    "\n",
    "while len(pq) != 0:\n",
    "    node = pq.pop()\n",
    "    explored.add(node.state)\n",
    "    if problem.goal_test(node.state):\n",
    "        last_node = node\n",
    "        # print(\"Encontramos la solución\")\n",
    "        break\n",
    "    for next_node in node.expand(problem):\n",
    "        if next_node.state not in explored:\n",
    "            pq.append(next_node)"
   ],
   "id": "7dd3084793cbd079",
   "outputs": [
    {
     "name": "stdout",
     "output_type": "stream",
     "text": [
      "17 ms ± 263 μs per loop (mean ± std. dev. of 7 runs, 100 loops each)\n"
     ]
    }
   ],
   "execution_count": 8
  },
  {
   "metadata": {
    "ExecuteTime": {
     "end_time": "2024-07-03T03:50:47.835713Z",
     "start_time": "2024-07-03T03:50:47.762375Z"
    }
   },
   "cell_type": "code",
   "source": [
    "import tracemalloc\n",
    "\n",
    "# Para medir memoria consumida (usamos el pico de memoria)\n",
    "tracemalloc.start()\n",
    "\n",
    "initial_state = StatesHanoi([5, 4, 3, 2, 1], [], [], max_disks=5)\n",
    "goal_state = StatesHanoi([], [], [5, 4, 3, 2, 1], max_disks=5)\n",
    "\n",
    "problem = ProblemHanoi(initial=initial_state, goal=goal_state)\n",
    "\n",
    "frontier = [NodeHanoi(problem.initial)]\n",
    "explored = set()\n",
    "\n",
    "good_order = {tuple(range(5, 5 - (i + 1), -1)) for i in range(5)}\n",
    "\n",
    "def h(new_node):\n",
    "    rod_3 = new_node.state.rods[2]\n",
    "    return -len(rod_3) if tuple(rod_3) in good_order else 0\n",
    "\n",
    "\n",
    "def f(new_node):\n",
    "    return new_node.path_cost + h(new_node)\n",
    "\n",
    "\n",
    "pq = PriorityQueue(order='min', f=f)\n",
    "pq.append(NodeHanoi(problem.initial))\n",
    "\n",
    "while len(pq) != 0:\n",
    "    node = pq.pop()\n",
    "    explored.add(node.state)\n",
    "    if problem.goal_test(node.state):\n",
    "        last_node = node\n",
    "        # print(\"Encontramos la solución\")\n",
    "        break\n",
    "    for next_node in node.expand(problem):\n",
    "        if next_node.state not in explored:\n",
    "            pq.append(next_node)\n",
    "            \n",
    "_, memory_peak = tracemalloc.get_traced_memory()\n",
    "memory_peak /= 1024*1024\n",
    "tracemalloc.stop()\n",
    "\n",
    "print(f\"Maxima memoria ocupada: {round(memory_peak, 2)} [MB]\", )"
   ],
   "id": "9cf8ab09af50859e",
   "outputs": [
    {
     "name": "stdout",
     "output_type": "stream",
     "text": [
      "Maxima memoria ocupada: 0.22 [MB]\n"
     ]
    }
   ],
   "execution_count": 16
  },
  {
   "metadata": {},
   "cell_type": "code",
   "outputs": [],
   "execution_count": null,
   "source": [
    "import tracemalloc\n",
    "\n",
    "# Para medir memoria consumida (usamos el pico de memoria)\n",
    "tracemalloc.start()\n",
    "\n",
    "# Inicializaos el problema\n",
    "initial_state = StatesHanoi([5, 4, 3, 2, 1], [], [], max_disks=5)\n",
    "goal_state = StatesHanoi([], [], [5, 4, 3, 2, 1], max_disks=5)\n",
    "problem = ProblemHanoi(initial=initial_state, goal=goal_state)\n",
    "\n",
    "frontier = [NodeHanoi(problem.initial)]  # Creamos una cola FIFO con el nodo inicial\n",
    "\n",
    "explored = set()  # Este set nos permite ver si ya exploramos un estado para evitar repetir indefinidamente\n",
    "\n",
    "# Mientras que la cola no este vacia\n",
    "while len(frontier) != 0:\n",
    "    node = frontier.pop()  # Extraemos el primer nodo de la cola\n",
    "    \n",
    "    # Agregamos nodo al set. Esto evita guardar duplicados, porque set nunca tiene elementos repetidos\n",
    "    explored.add(node.state)\n",
    "    \n",
    "    if problem.goal_test(node.state):  # Comprobamos si hemos alcanzado el estado objetivo\n",
    "        last_node = node\n",
    "        break\n",
    "    \n",
    "    # Agregamos a la cola todos los nodos sucesores del nodo actual\n",
    "    for next_node in node.expand(problem):\n",
    "        # Solo si no fue explorado\n",
    "        if next_node.state not in explored:\n",
    "            frontier.insert(0, next_node)\n",
    "            \n",
    "_, memory_peak = tracemalloc.get_traced_memory()\n",
    "memory_peak /= 1024*1024\n",
    "tracemalloc.stop()\n",
    "\n",
    "print(f\"Maxima memoria ocupada: {round(memory_peak, 2)} [MB]\", )"
   ],
   "id": "3af10eb48271e563"
  },
  {
   "metadata": {},
   "cell_type": "markdown",
   "source": [
    "### 7. Si la solución óptima es movimientos con k igual al número de discos. Qué tan lejos está la solución del algoritmo implementado de esta solución óptima (se recomienda correr al menos 10 veces y usar el promedio de trayecto usado).\n",
    "\n",
    "Como se trata de A* con una heuristica consistente la solucion implementada converge a la solucion optima.\n",
    " \n",
    "\n"
   ],
   "id": "808bdd82c2e68d19"
  },
  {
   "metadata": {},
   "cell_type": "code",
   "source": "",
   "id": "ccd7120ed1f4f9a",
   "outputs": [],
   "execution_count": null
  }
 ],
 "metadata": {
  "kernelspec": {
   "display_name": "Python 3",
   "language": "python",
   "name": "python3"
  },
  "language_info": {
   "codemirror_mode": {
    "name": "ipython",
    "version": 2
   },
   "file_extension": ".py",
   "mimetype": "text/x-python",
   "name": "python",
   "nbconvert_exporter": "python",
   "pygments_lexer": "ipython2",
   "version": "2.7.6"
  }
 },
 "nbformat": 4,
 "nbformat_minor": 5
}
