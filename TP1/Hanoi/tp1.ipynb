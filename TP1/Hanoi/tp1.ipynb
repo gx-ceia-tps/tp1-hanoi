{
 "cells": [
  {
   "metadata": {
    "ExecuteTime": {
     "end_time": "2024-07-07T21:35:10.511268Z",
     "start_time": "2024-07-07T21:35:10.508665Z"
    }
   },
   "cell_type": "code",
   "source": "",
   "id": "65a80b8e9abf0cf5",
   "outputs": [],
   "execution_count": 20
  },
  {
   "metadata": {},
   "cell_type": "markdown",
   "source": [
    "# TP1: Algoritmos de búsqueda en Torre de Hanoi.\n",
    "\n"
   ],
   "id": "fbd04b47fe5bc7ba"
  },
  {
   "metadata": {},
   "cell_type": "markdown",
   "source": [
    "### 1.¿Cuáles son los PEAS de este problema? (Performance, Environment, Actuators, Sensors)\n",
    "### Performance\n",
    "\n",
    "La performance esta dada por haber llegado a la solucion, es decir, colocar a todos los discos en la varilla objetivo en el menor tiempo posible. En este caso como el costo de cada nodo es el mismo (1 para cada movimiento), la solucion optima es la que menos costo tiene.\n",
    "\n",
    "### Enviroment\n",
    "El ambiente esta dado por los discos y las varillas.\n",
    "\n",
    "### Actuator\n",
    "Asumiendo que el agente es un robot el actuador puede ser una mano robotica que realiza los movimientos de los discos.\n",
    "\n",
    "### Sensor\n",
    "En la misma linea que el punto anterior, podria tratarse de una camara y sensores de posicion que posea el robot y para detectar donde estan los discos y donde colocarlos (asi como donde esta situado el brazo, segun el angulo)."
   ],
   "id": "e366b431d600206e"
  },
  {
   "metadata": {},
   "cell_type": "markdown",
   "source": [
    "### 2.¿Cuáles son las propiedades del entorno de trabajo?\n",
    "\n",
    "1. Totalmente observable: Una vez que estan seteadas las varillas y los discos, lo unico que puede cambiar es su posicion respetando las reglas del juego.\n",
    "2. Deterministico: dado un estado en el que se encuentra el agente, se sabe con certeza los siguientes estados posibles. Esto ocurre para todas las transiciones de estados.\n",
    "3. Secuencial: ya que cada decision presente puede afectar decisiones futuras.\n",
    "4. Estatico: ya que el entorno no cambia (y tampoco el rendimiento) mientras el agente decide su proxima accion.\n",
    "5. Discreto: ya que la cantidad de acciones que peude elegir es finita.\n",
    "6. Agente individual: no hay otros agentes ejecutando acciones sobre los discos o las varas.\n"
   ],
   "id": "455e3a654daaf7d"
  },
  {
   "metadata": {},
   "cell_type": "markdown",
   "source": [
    "### 3. En el contexto de este problema, establezca cuáles son los: estado, espacio de estados, árbol de búsqueda, nodo de búsqueda, objetivo, acción y frontera.\n",
    "\n",
    "Estado: Un estado es una \"foto\" a cualquier combinacion de discos correctamente colocada entre las 3 varillas.\n",
    "Por ejemplo, lo siguiente seria un estado:\n",
    "\n",
    "![state_example](\"./imgs/state_example.png\")\n",
    "\n",
    "Espacio de estados: esta determinado por la cantidad de estados que hay. Si tomamos\n",
    "k como el numero de varillas y w como el numero de discos, hay k^w = 3^5 = 243 estados. \n",
    "Arbol de busqueda: Es el arbol que se forma cuando se realiza la busqueda sobre el grafo de espacio de estados.\n",
    "\n",
    "Nodo de busqueda: Cada nodo representa un estado en el espacio de estados y las aristas en el arbol de busqueda corresponde a las acciones (que nos llevarian al siguiente nodo)\n",
    "Objetivo: El estado con 5 discos en la tercer varilla. \n",
    "Accion: Mover un disco a otra varilla\n",
    "Frontera: Dado un nodo explorado, son los nodos (inexplorados) siguientes a los cuales las acciones (desde el nodo explorado) nos podrian llevar."
   ],
   "id": "b6dae00370699e1a"
  },
  {
   "metadata": {},
   "cell_type": "markdown",
   "source": [
    "### 5. Complejidad algoritmica:\n",
    "El algoritmo implementado es el de A*.\n",
    "Vas expandiendo nodos para encontrar la solucion: \n",
    "En el pero de los casos podes tomar 3 decisiones.\n",
    "3^(niveles hasta q encuentra)\n",
    "\n",
    "explorando todos los posibles estados. \n",
    "3^5 = 243\n",
    "\n",
    "\n",
    "#### Calculo de f de A*\n",
    "Veamos el calculo de f en la priority queue:\n",
    "```python\n",
    "good_order = {tuple(range(5, 5 - (i + 1), -1)) for i in range(5)}\n",
    "\n",
    "def h(new_node):\n",
    "    rod_3 = new_node.state.rods[2]\n",
    "    return -len(rod_3) if tuple(rod_3) in good_order else 0\n",
    "\n",
    "def f(new_node):\n",
    "    return new_node.path_cost + h(new_node)\n",
    "```\n",
    "Debido a que good_order es un set con los discos en el orden correcto y debido a que esta implementado \n",
    "con una hash table, consultar si un elemento esta es O(1). Luego, h(n) es de orden O(1).\n",
    "g(n) es O(1) ya que es simplemente acceder al costo, que esta almacenado en el objeto nodo.\n",
    "f(n) por ende, es de O(1) tambien.\n",
    "\n",
    "### Priority Queue complejidad\n",
    "\n",
    "Veamos las caracteristicas de la priority queue de heapq:\n",
    "heappush: O(log(n))\n",
    "heappop: O(log(n))\n",
    "\n",
    "Sabiendo que el codigo de aima es:\n",
    "```python\n",
    "    def append(self, item):\n",
    "        \"\"\"Insert item at its correct position.\"\"\"\n",
    "        heapq.heappush(self.heap, (self.f(item), item))\n",
    "    def pop(self):\n",
    "        \"\"\"Pop and return the item (with min or max f(x) value)\n",
    "        depending on the order.\"\"\"\n",
    "        if self.heap:\n",
    "            return heapq.heappop(self.heap)[1]\n",
    "        else:\n",
    "            raise Exception('Trying to pop from empty PriorityQueue.')\n",
    "```\n",
    "Por ende las lineas\n",
    "```python\n",
    "    node = pq.pop()\n",
    "```\n",
    "y \n",
    "```python\n",
    "    pq.append(next_node)\n",
    "```\n",
    "Son de orden O(log(n)).\n",
    "Donde n es la cantidad de nodos en la priority queue.\n",
    "\n",
    "\n",
    "Ahora, sabiendo que agregamos una heuristica consistente, estamos recortando varios posibles caminos malos y nos tendemos a extender por la solucion optima.\n",
    "\n",
    "```python  \n",
    "while len(pq) != 0:\n",
    "    node = pq.pop() # O(log(n)) \n",
    "    explored.add(node.state) # O(1) ya que es un set y no van a haber colisiones\n",
    "    if problem.goal_test(node.state): # check de goal test es O(1) tambien\n",
    "        last_node = node\n",
    "        print(\"Encontramos la solución\")\n",
    "        break\n",
    "    for next_node in node.expand(problem): # esto en peor caso se extiende b veces\n",
    "            if next_node.state not in explored: # este chequeo es O(1) ya que explored es un set\n",
    "                pq.append(next_node) # esto es O(log(n))\n",
    "```\n",
    "h = 0\n",
    "log(n) (pop) + b*log(n) (append) \n",
    "h = 1 \n",
    "b*log(n) (pop) + b*(b*log(n)) (append)\n",
    "h = 2 \n",
    "b^2*log(n)\n",
    "\n",
    "...\n",
    "\n",
    "log(n)*(b^h) (pops) + (b^h) * log(n) (append)\n",
    "\n",
    "O(log(n)) * (b^h))\n",
    "\n",
    "n = b^h \n",
    "log(b^h) = log(b)*h\n",
    "\n",
    "=> O(b^h).\n",
    "\n",
    "### Calculo de effective branching factor.\n",
    "En el algoritmo de A* se suele caracterizar la complejidad mediante un effective branching factor llamado b*.\n",
    "Esto es meramente una estimacion para saber cuanto puede reducir la complejidad el hecho de agregar una cola de prioridad y heuristica.\n",
    "Como utilizamos A* con una heuristica consistente, por ende debe llegar a la solucion optima.\n",
    "El peor caso de complejidad es haber recorrido el arbol completo, es decir, O(b^h).\n",
    "Sabemos que la solucion optima requiere de 2^k -1 movimentos siendo k el numero de discos.\n",
    "k = 5 =>  h = 31.\n",
    "La cantidad de nodos es 256, por ende \n",
    "N + 1 = (b*)^(h+1) - 1\n",
    "log2(N+2) = log2(b*)*(h+1)\n",
    "log2(N+2)/(h+1) = log2(b*)\n",
    "b* = 1.189496356\n",
    "En donde b* seria nuestro effective branching factor. \n",
    "\n",
    "Complejidad tanto en tiempo como espacio es: O((b*)^h )\n",
    "\n",
    "\n",
    "\n"
   ],
   "id": "d5271d26b818d618"
  },
  {
   "metadata": {},
   "cell_type": "markdown",
   "source": "### 6.A nivel implementación, ¿qué tiempo y memoria ocupa el algoritmo? (Se recomienda correr 10 veces y calcular promedio y desvío estándar de las métricas).",
   "id": "f901d6e3105c5835"
  },
  {
   "metadata": {
    "ExecuteTime": {
     "end_time": "2024-07-07T21:35:10.542294Z",
     "start_time": "2024-07-07T21:35:10.539250Z"
    }
   },
   "cell_type": "code",
   "source": [
    "from aima import PriorityQueue\n",
    "from hanoi_states import StatesHanoi, ProblemHanoi\n",
    "from tree_hanoi import NodeHanoi\n",
    "last_node = None"
   ],
   "id": "90b2bb3fc7f46370",
   "outputs": [],
   "execution_count": 21
  },
  {
   "metadata": {
    "ExecuteTime": {
     "end_time": "2024-07-07T21:35:25.337599Z",
     "start_time": "2024-07-07T21:35:10.549370Z"
    }
   },
   "cell_type": "code",
   "source": [
    "%%timeit\n",
    "initial_state = StatesHanoi([5, 4, 3, 2, 1], [], [], max_disks=5)\n",
    "goal_state = StatesHanoi([], [], [5, 4, 3, 2, 1], max_disks=5)\n",
    "\n",
    "problem = ProblemHanoi(initial=initial_state, goal=goal_state)\n",
    "\n",
    "frontier = [NodeHanoi(problem.initial)]\n",
    "explored = set()\n",
    "\n",
    "good_order = {tuple(range(5, 5 - (i + 1), -1)) for i in range(5)}\n",
    "\n",
    "def h(new_node):\n",
    "    rod_3 = new_node.state.rods[2]\n",
    "    return -len(rod_3) if tuple(rod_3) in good_order else 0\n",
    "\n",
    "\n",
    "def f(new_node):\n",
    "    return new_node.path_cost + h(new_node)\n",
    "\n",
    "\n",
    "pq = PriorityQueue(order='min', f=f)\n",
    "pq.append(NodeHanoi(problem.initial))\n",
    "\n",
    "while len(pq) != 0:\n",
    "    node = pq.pop()\n",
    "    explored.add(node.state)\n",
    "    if problem.goal_test(node.state):\n",
    "        last_node = node\n",
    "        # print(\"Encontramos la solución\")\n",
    "        break\n",
    "    for next_node in node.expand(problem):\n",
    "        if next_node.state not in explored:\n",
    "            pq.append(next_node)"
   ],
   "id": "7dd3084793cbd079",
   "outputs": [
    {
     "name": "stdout",
     "output_type": "stream",
     "text": [
      "18.1 ms ± 349 μs per loop (mean ± std. dev. of 7 runs, 100 loops each)\n"
     ]
    }
   ],
   "execution_count": 22
  },
  {
   "metadata": {
    "ExecuteTime": {
     "end_time": "2024-07-07T21:35:25.410789Z",
     "start_time": "2024-07-07T21:35:25.339690Z"
    }
   },
   "cell_type": "code",
   "source": [
    "import tracemalloc\n",
    "\n",
    "# Para medir memoria consumida (usamos el pico de memoria)\n",
    "tracemalloc.start()\n",
    "\n",
    "initial_state = StatesHanoi([5, 4, 3, 2, 1], [], [], max_disks=5)\n",
    "goal_state = StatesHanoi([], [], [5, 4, 3, 2, 1], max_disks=5)\n",
    "\n",
    "problem = ProblemHanoi(initial=initial_state, goal=goal_state)\n",
    "\n",
    "frontier = [NodeHanoi(problem.initial)]\n",
    "explored = set()\n",
    "\n",
    "good_order = {tuple(range(5, 5 - (i + 1), -1)) for i in range(5)}\n",
    "\n",
    "def h(new_node):\n",
    "    rod_3 = new_node.state.rods[2]\n",
    "    return -len(rod_3) if tuple(rod_3) in good_order else 0\n",
    "\n",
    "\n",
    "def f(new_node):\n",
    "    return new_node.path_cost + h(new_node)\n",
    "\n",
    "\n",
    "pq = PriorityQueue(order='min', f=f)\n",
    "pq.append(NodeHanoi(problem.initial))\n",
    "\n",
    "while len(pq) != 0:\n",
    "    node = pq.pop()\n",
    "    explored.add(node.state)\n",
    "    if problem.goal_test(node.state):\n",
    "        last_node = node\n",
    "        # print(\"Encontramos la solución\")\n",
    "        break\n",
    "    for next_node in node.expand(problem):\n",
    "        if next_node.state not in explored:\n",
    "            pq.append(next_node)\n",
    "            \n",
    "_, memory_peak = tracemalloc.get_traced_memory()\n",
    "memory_peak /= 1024*1024\n",
    "tracemalloc.stop()\n",
    "\n",
    "print(f\"Maxima memoria ocupada: {round(memory_peak, 2)} [MB]\", )"
   ],
   "id": "9cf8ab09af50859e",
   "outputs": [
    {
     "name": "stdout",
     "output_type": "stream",
     "text": [
      "Maxima memoria ocupada: 0.22 [MB]\n"
     ]
    }
   ],
   "execution_count": 23
  },
  {
   "metadata": {
    "ExecuteTime": {
     "end_time": "2024-07-07T21:35:25.714986Z",
     "start_time": "2024-07-07T21:35:25.412364Z"
    }
   },
   "cell_type": "code",
   "source": [
    "import tracemalloc\n",
    "\n",
    "# Para medir memoria consumida (usamos el pico de memoria)\n",
    "tracemalloc.start()\n",
    "\n",
    "# Inicializaos el problema\n",
    "initial_state = StatesHanoi([5, 4, 3, 2, 1], [], [], max_disks=5)\n",
    "goal_state = StatesHanoi([], [], [5, 4, 3, 2, 1], max_disks=5)\n",
    "problem = ProblemHanoi(initial=initial_state, goal=goal_state)\n",
    "\n",
    "frontier = [NodeHanoi(problem.initial)]  # Creamos una cola FIFO con el nodo inicial\n",
    "\n",
    "explored = set()  # Este set nos permite ver si ya exploramos un estado para evitar repetir indefinidamente\n",
    "\n",
    "# Mientras que la cola no este vacia\n",
    "while len(frontier) != 0:\n",
    "    node = frontier.pop()  # Extraemos el primer nodo de la cola\n",
    "    \n",
    "    # Agregamos nodo al set. Esto evita guardar duplicados, porque set nunca tiene elementos repetidos\n",
    "    explored.add(node.state)\n",
    "    \n",
    "    if problem.goal_test(node.state):  # Comprobamos si hemos alcanzado el estado objetivo\n",
    "        last_node = node\n",
    "        break\n",
    "    \n",
    "    # Agregamos a la cola todos los nodos sucesores del nodo actual\n",
    "    for next_node in node.expand(problem):\n",
    "        # Solo si no fue explorado\n",
    "        if next_node.state not in explored:\n",
    "            frontier.insert(0, next_node)\n",
    "            \n",
    "_, memory_peak = tracemalloc.get_traced_memory()\n",
    "memory_peak /= 1024*1024\n",
    "tracemalloc.stop()\n",
    "\n",
    "print(f\"Maxima memoria ocupada: {round(memory_peak, 2)} [MB]\", )"
   ],
   "id": "3af10eb48271e563",
   "outputs": [
    {
     "name": "stdout",
     "output_type": "stream",
     "text": [
      "Maxima memoria ocupada: 1.61 [MB]\n"
     ]
    }
   ],
   "execution_count": 24
  },
  {
   "metadata": {},
   "cell_type": "markdown",
   "source": [
    "### 7. Si la solución óptima es movimientos con k igual al número de discos. Qué tan lejos está la solución del algoritmo implementado de esta solución óptima (se recomienda correr al menos 10 veces y usar el promedio de trayecto usado).\n",
    "\n",
    "Como se trata de A* con una heuristica consistente la solucion implementada converge a la solucion optima.\n",
    " \n",
    "\n"
   ],
   "id": "808bdd82c2e68d19"
  },
  {
   "metadata": {
    "ExecuteTime": {
     "end_time": "2024-07-07T21:35:33.451312Z",
     "start_time": "2024-07-07T21:35:33.446759Z"
    }
   },
   "cell_type": "code",
   "source": "last_node.generate_solution_for_simulator()",
   "id": "ccd7120ed1f4f9a",
   "outputs": [],
   "execution_count": 26
  },
  {
   "metadata": {
    "ExecuteTime": {
     "end_time": "2024-07-07T21:35:42.135299Z",
     "start_time": "2024-07-07T21:35:42.131252Z"
    }
   },
   "cell_type": "code",
   "source": "print(last_node)",
   "id": "762fe2aac6598f43",
   "outputs": [
    {
     "name": "stdout",
     "output_type": "stream",
     "text": [
      "<Node HanoiState:  |  | 5 4 3 2 1>\n"
     ]
    }
   ],
   "execution_count": 27
  },
  {
   "metadata": {},
   "cell_type": "code",
   "outputs": [],
   "execution_count": null,
   "source": "",
   "id": "b13aaa9879ea2e2e"
  }
 ],
 "metadata": {
  "kernelspec": {
   "display_name": "Python 3",
   "language": "python",
   "name": "python3"
  },
  "language_info": {
   "codemirror_mode": {
    "name": "ipython",
    "version": 2
   },
   "file_extension": ".py",
   "mimetype": "text/x-python",
   "name": "python",
   "nbconvert_exporter": "python",
   "pygments_lexer": "ipython2",
   "version": "2.7.6"
  }
 },
 "nbformat": 4,
 "nbformat_minor": 5
}
